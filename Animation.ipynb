{
 "cells": [
  {
   "cell_type": "code",
   "execution_count": 1,
   "metadata": {},
   "outputs": [],
   "source": [
    "import numpy as np\n",
    "import pandas as pd\n",
    "import matplotlib.pyplot as plt\n",
    "from sklearn import datasets\n",
    "from sklearn.model_selection import train_test_split\n",
    "from sklearn.preprocessing import StandardScaler\n",
    "from sklearn.linear_model import LogisticRegression\n",
    "import matplotlib.animation as animation\n"
   ]
  },
  {
   "cell_type": "markdown",
   "metadata": {},
   "source": [
    "# Visualizations Below"
   ]
  },
  {
   "cell_type": "markdown",
   "metadata": {},
   "source": [
    "## 1) Animation format for one patient over a few hours\n",
    "\n",
    "This is a recreation of the existing animation of AKI for 1 patient over time.\n",
    "\n",
    "1) X-axis: TIME (in hours)\n",
    "2) y-axis: Risk of AKI (THE LOGISTIC REGRESSION PROBABILITY DECIMAL)\n",
    "3) Moving line represents changes in probabilty per hour"
   ]
  },
  {
   "cell_type": "code",
   "execution_count": 3,
   "metadata": {},
   "outputs": [
    {
     "ename": "KeyboardInterrupt",
     "evalue": "",
     "output_type": "error",
     "traceback": [
      "\u001b[1;31m---------------------------------------------------------------------------\u001b[0m",
      "\u001b[1;31mKeyboardInterrupt\u001b[0m                         Traceback (most recent call last)",
      "Cell \u001b[1;32mIn[3], line 59\u001b[0m\n\u001b[0;32m     56\u001b[0m fig \u001b[38;5;241m=\u001b[39m plt\u001b[38;5;241m.\u001b[39mfigure(figsize\u001b[38;5;241m=\u001b[39m(\u001b[38;5;241m10\u001b[39m, \u001b[38;5;241m6\u001b[39m))\n\u001b[0;32m     57\u001b[0m anim \u001b[38;5;241m=\u001b[39m animation\u001b[38;5;241m.\u001b[39mFuncAnimation(fig, update, frames\u001b[38;5;241m=\u001b[39m\u001b[38;5;28mlen\u001b[39m(df_predictions), interval\u001b[38;5;241m=\u001b[39m\u001b[38;5;241m100\u001b[39m)\n\u001b[1;32m---> 59\u001b[0m \u001b[43mplt\u001b[49m\u001b[38;5;241;43m.\u001b[39;49m\u001b[43mshow\u001b[49m\u001b[43m(\u001b[49m\u001b[43m)\u001b[49m\n",
      "File \u001b[1;32mc:\\Users\\faith\\anaconda3\\envs\\myenv\\lib\\site-packages\\matplotlib\\pyplot.py:607\u001b[0m, in \u001b[0;36mshow\u001b[1;34m(*args, **kwargs)\u001b[0m\n\u001b[0;32m    563\u001b[0m \u001b[38;5;250m\u001b[39m\u001b[38;5;124;03m\"\"\"\u001b[39;00m\n\u001b[0;32m    564\u001b[0m \u001b[38;5;124;03mDisplay all open figures.\u001b[39;00m\n\u001b[0;32m    565\u001b[0m \n\u001b[1;32m   (...)\u001b[0m\n\u001b[0;32m    604\u001b[0m \u001b[38;5;124;03mexplicitly there.\u001b[39;00m\n\u001b[0;32m    605\u001b[0m \u001b[38;5;124;03m\"\"\"\u001b[39;00m\n\u001b[0;32m    606\u001b[0m _warn_if_gui_out_of_main_thread()\n\u001b[1;32m--> 607\u001b[0m \u001b[38;5;28;01mreturn\u001b[39;00m _get_backend_mod()\u001b[38;5;241m.\u001b[39mshow(\u001b[38;5;241m*\u001b[39margs, \u001b[38;5;241m*\u001b[39m\u001b[38;5;241m*\u001b[39mkwargs)\n",
      "File \u001b[1;32mc:\\Users\\faith\\anaconda3\\envs\\myenv\\lib\\site-packages\\matplotlib\\backend_bases.py:3567\u001b[0m, in \u001b[0;36m_Backend.show\u001b[1;34m(cls, block)\u001b[0m\n\u001b[0;32m   3565\u001b[0m     block \u001b[38;5;241m=\u001b[39m \u001b[38;5;129;01mnot\u001b[39;00m ipython_pylab \u001b[38;5;129;01mand\u001b[39;00m \u001b[38;5;129;01mnot\u001b[39;00m is_interactive()\n\u001b[0;32m   3566\u001b[0m \u001b[38;5;28;01mif\u001b[39;00m block:\n\u001b[1;32m-> 3567\u001b[0m     \u001b[38;5;28;43mcls\u001b[39;49m\u001b[38;5;241;43m.\u001b[39;49m\u001b[43mmainloop\u001b[49m\u001b[43m(\u001b[49m\u001b[43m)\u001b[49m\n",
      "File \u001b[1;32mc:\\Users\\faith\\anaconda3\\envs\\myenv\\lib\\site-packages\\matplotlib\\backends\\_backend_tk.py:520\u001b[0m, in \u001b[0;36mFigureManagerTk.start_main_loop\u001b[1;34m(cls)\u001b[0m\n\u001b[0;32m    518\u001b[0m manager_class\u001b[38;5;241m.\u001b[39m_owns_mainloop \u001b[38;5;241m=\u001b[39m \u001b[38;5;28;01mTrue\u001b[39;00m\n\u001b[0;32m    519\u001b[0m \u001b[38;5;28;01mtry\u001b[39;00m:\n\u001b[1;32m--> 520\u001b[0m     \u001b[43mfirst_manager\u001b[49m\u001b[38;5;241;43m.\u001b[39;49m\u001b[43mwindow\u001b[49m\u001b[38;5;241;43m.\u001b[39;49m\u001b[43mmainloop\u001b[49m\u001b[43m(\u001b[49m\u001b[43m)\u001b[49m\n\u001b[0;32m    521\u001b[0m \u001b[38;5;28;01mfinally\u001b[39;00m:\n\u001b[0;32m    522\u001b[0m     manager_class\u001b[38;5;241m.\u001b[39m_owns_mainloop \u001b[38;5;241m=\u001b[39m \u001b[38;5;28;01mFalse\u001b[39;00m\n",
      "File \u001b[1;32mc:\\Users\\faith\\anaconda3\\envs\\myenv\\lib\\tkinter\\__init__.py:1429\u001b[0m, in \u001b[0;36mMisc.mainloop\u001b[1;34m(self, n)\u001b[0m\n\u001b[0;32m   1427\u001b[0m \u001b[38;5;28;01mdef\u001b[39;00m \u001b[38;5;21mmainloop\u001b[39m(\u001b[38;5;28mself\u001b[39m, n\u001b[38;5;241m=\u001b[39m\u001b[38;5;241m0\u001b[39m):\n\u001b[0;32m   1428\u001b[0m \u001b[38;5;250m    \u001b[39m\u001b[38;5;124;03m\"\"\"Call the mainloop of Tk.\"\"\"\u001b[39;00m\n\u001b[1;32m-> 1429\u001b[0m     \u001b[38;5;28;43mself\u001b[39;49m\u001b[38;5;241;43m.\u001b[39;49m\u001b[43mtk\u001b[49m\u001b[38;5;241;43m.\u001b[39;49m\u001b[43mmainloop\u001b[49m\u001b[43m(\u001b[49m\u001b[43mn\u001b[49m\u001b[43m)\u001b[49m\n",
      "\u001b[1;31mKeyboardInterrupt\u001b[0m: "
     ]
    }
   ],
   "source": [
    "import pandas as pd\n",
    "import matplotlib\n",
    "matplotlib.use('TkAgg') \n",
    "import matplotlib.pyplot as plt\n",
    "import seaborn as sns\n",
    "# import mplcursors\n",
    "\n",
    "sns.set(style='ticks', palette='muted')\n",
    "\n",
    "predictions= pd.read_csv('C:./sample-patient.csv')\n",
    "predictions.head()\n",
    "\n",
    "\n",
    "df_predictions = pd.DataFrame({\n",
    "    'Hour': predictions['time'],\n",
    "    'Predicted': predictions['Prediction: Risk of AKI'],\n",
    "    'Actual':predictions['Actual AKI Risk Result'],\n",
    "})\n",
    "\n",
    "\n",
    "\n",
    "\n",
    "def update(frame):\n",
    "    plt.cla()  # clears the plot\n",
    "    plt.axhline(y=0.5, color='green', linestyle='-', label='50% Risk Of AKI')\n",
    "\n",
    "    plt.plot(df_predictions['Hour'][:frame+1], df_predictions['Predicted'][:frame+1], label='Predicted Risk')\n",
    "    plt.fill_between(df_predictions['Hour'][:frame+1], 0, 1,where=(df_predictions['Actual'][:frame+1] ==1), color='red', alpha=0.3, label= \"AKI Actually Detected\")\n",
    "\n",
    "    patient_no = predictions['hadm_id'][0]\n",
    "    hour= df_predictions['Hour'][frame]\n",
    "\n",
    "    # cursor = mplcursors.cursor(hover=True)\n",
    "    # cursor.connect('add', lambda sel: sel.annotation.set_text(\n",
    "    #     f'Hour: {df_predictions[\"Hour\"][sel.target.index]}\\n'\n",
    "    #     f'Predicted Risk: {df_predictions[\"Predicted\"][sel.target.index]}\\n'\n",
    "    #     f'Actual Risk: {df_predictions[\"Actual\"][sel.target.index]}'\n",
    "    # ))\n",
    "\n",
    "\n",
    "    plt.legend()\n",
    "    plt.xlabel('Hours (After ICU Admission)')\n",
    "    plt.ylabel('% Risk of AKI For The Next 24 Hours')\n",
    "    plt.title(f'Hourly Predictions of AKI Risk For Patient No.: {patient_no}')\n",
    "\n",
    "\n",
    "    plt.xlim(0,len(df_predictions))\n",
    "    plt.ylim(df_predictions['Predicted'].min(),1)\n",
    "    plt.grid(True)\n",
    "    plt.tight_layout()\n",
    "\n",
    "    # if hour % 4 == 0:  # Add annotation every 4 hours\n",
    "    #     plt.text(hour, 0.5, f'Hour {hour}', fontsize=14, ha='center', va='center', color='black', bbox=dict(facecolor='white', edgecolor='gray', boxstyle='round,pad=0.5'))\n",
    "\n",
    "# Create the animation\n",
    "fig = plt.figure(figsize=(10, 6))\n",
    "anim = animation.FuncAnimation(fig, update, frames=len(df_predictions), interval=100)\n",
    "\n",
    "plt.show()"
   ]
  },
  {
   "cell_type": "markdown",
   "metadata": {},
   "source": [
    "## 2) Dashboard display of patient's statistics"
   ]
  },
  {
   "cell_type": "code",
   "execution_count": 5,
   "metadata": {},
   "outputs": [
    {
     "name": "stdout",
     "output_type": "stream",
     "text": [
      "   time   hadm_id  Prediction: Risk of AKI  Actual AKI Risk Result\n",
      "0     0  27459628                 0.203823                     0.0\n",
      "1     1  27459628                 0.203823                     0.0\n",
      "2     2  27459628                 0.251843                     0.0\n",
      "3     3  27459628                 0.342657                     0.0\n",
      "4     4  27459628                 0.056934                     0.0\n"
     ]
    },
    {
     "ename": "NameError",
     "evalue": "name 'data1' is not defined",
     "output_type": "error",
     "traceback": [
      "\u001b[1;31m---------------------------------------------------------------------------\u001b[0m",
      "\u001b[1;31mNameError\u001b[0m                                 Traceback (most recent call last)",
      "Cell \u001b[1;32mIn[5], line 17\u001b[0m\n\u001b[0;32m     14\u001b[0m fig, axs \u001b[38;5;241m=\u001b[39m plt\u001b[38;5;241m.\u001b[39msubplots(\u001b[38;5;241m2\u001b[39m, \u001b[38;5;241m2\u001b[39m, figsize\u001b[38;5;241m=\u001b[39m(\u001b[38;5;241m10\u001b[39m, \u001b[38;5;241m8\u001b[39m))\n\u001b[0;32m     16\u001b[0m \u001b[38;5;66;03m# Plot 1: Histogram\u001b[39;00m\n\u001b[1;32m---> 17\u001b[0m axs[\u001b[38;5;241m0\u001b[39m, \u001b[38;5;241m0\u001b[39m]\u001b[38;5;241m.\u001b[39mhist(\u001b[43mdata1\u001b[49m, bins\u001b[38;5;241m=\u001b[39m\u001b[38;5;241m30\u001b[39m, color\u001b[38;5;241m=\u001b[39m\u001b[38;5;124m'\u001b[39m\u001b[38;5;124mblue\u001b[39m\u001b[38;5;124m'\u001b[39m, alpha\u001b[38;5;241m=\u001b[39m\u001b[38;5;241m0.5\u001b[39m)\n\u001b[0;32m     18\u001b[0m axs[\u001b[38;5;241m0\u001b[39m, \u001b[38;5;241m0\u001b[39m]\u001b[38;5;241m.\u001b[39mset_title(\u001b[38;5;124m'\u001b[39m\u001b[38;5;124mHistogram\u001b[39m\u001b[38;5;124m'\u001b[39m)\n\u001b[0;32m     20\u001b[0m \u001b[38;5;66;03m# Plot 2: Box plot\u001b[39;00m\n",
      "\u001b[1;31mNameError\u001b[0m: name 'data1' is not defined"
     ]
    }
   ],
   "source": [
    "import matplotlib.pyplot as plt\n",
    "import numpy as np\n",
    "\n",
    "# import prediction data from csv/pkl files:\n",
    "\n",
    "print(predictions.head())\n",
    "\n",
    "\n",
    "\n"
   ]
  },
  {
   "cell_type": "code",
   "execution_count": 6,
   "metadata": {},
   "outputs": [
    {
     "ename": "NameError",
     "evalue": "name 'data1' is not defined",
     "output_type": "error",
     "traceback": [
      "\u001b[1;31m---------------------------------------------------------------------------\u001b[0m",
      "\u001b[1;31mNameError\u001b[0m                                 Traceback (most recent call last)",
      "Cell \u001b[1;32mIn[6], line 5\u001b[0m\n\u001b[0;32m      2\u001b[0m fig, axs \u001b[38;5;241m=\u001b[39m plt\u001b[38;5;241m.\u001b[39msubplots(\u001b[38;5;241m2\u001b[39m, \u001b[38;5;241m2\u001b[39m, figsize\u001b[38;5;241m=\u001b[39m(\u001b[38;5;241m10\u001b[39m, \u001b[38;5;241m8\u001b[39m))\n\u001b[0;32m      4\u001b[0m \u001b[38;5;66;03m# Plot 1: Histogram\u001b[39;00m\n\u001b[1;32m----> 5\u001b[0m axs[\u001b[38;5;241m0\u001b[39m, \u001b[38;5;241m0\u001b[39m]\u001b[38;5;241m.\u001b[39mhist(\u001b[43mdata1\u001b[49m, bins\u001b[38;5;241m=\u001b[39m\u001b[38;5;241m30\u001b[39m, color\u001b[38;5;241m=\u001b[39m\u001b[38;5;124m'\u001b[39m\u001b[38;5;124mblue\u001b[39m\u001b[38;5;124m'\u001b[39m, alpha\u001b[38;5;241m=\u001b[39m\u001b[38;5;241m0.5\u001b[39m)\n\u001b[0;32m      6\u001b[0m axs[\u001b[38;5;241m0\u001b[39m, \u001b[38;5;241m0\u001b[39m]\u001b[38;5;241m.\u001b[39mset_title(\u001b[38;5;124m'\u001b[39m\u001b[38;5;124mHistogram\u001b[39m\u001b[38;5;124m'\u001b[39m)\n\u001b[0;32m      8\u001b[0m \u001b[38;5;66;03m# Plot 2: Box plot\u001b[39;00m\n",
      "\u001b[1;31mNameError\u001b[0m: name 'data1' is not defined"
     ]
    }
   ],
   "source": [
    "\n",
    "# Create figure and axes\n",
    "fig, axs = plt.subplots(2, 2, figsize=(10, 8))\n",
    "\n",
    "# Plot 1: Histogram\n",
    "axs[0, 0].hist(data1, bins=30, color='blue', alpha=0.5)\n",
    "axs[0, 0].set_title('Histogram')\n",
    "\n",
    "# Plot 2: Box plot\n",
    "axs[0, 1].boxplot(data2, vert=False, patch_artist=True, showmeans=True)\n",
    "axs[0, 1].set_title('Box Plot')\n",
    "\n",
    "# Plot 3: Scatter plot\n",
    "axs[1, 0].scatter(range(len(data3)), data3, color='green', marker='.')\n",
    "axs[1, 0].set_title('Scatter Plot')\n",
    "\n",
    "# Plot 4: Pie chart\n",
    "labels = ['A', 'B', 'C', 'D']\n",
    "sizes = [15, 30, 45, 10]\n",
    "axs[1, 1].pie(sizes, labels=labels, autopct='%1.1f%%', startangle=140)\n",
    "axs[1, 1].set_title('Pie Chart')\n",
    "\n",
    "# Adjust layout\n",
    "plt.tight_layout()\n",
    "\n",
    "# Show plot\n",
    "plt.show()"
   ]
  },
  {
   "cell_type": "markdown",
   "metadata": {},
   "source": [
    "# Time Series Analysis"
   ]
  },
  {
   "cell_type": "markdown",
   "metadata": {},
   "source": [
    ". Patient Risk Stratification\n",
    "Heatmap or Treemap: Group patients based on their AKI risk level (low, medium, high) and visualize demographic information, comorbidities, and other relevant factors. This allows clinicians to quickly assess which patients are at highest risk."
   ]
  }
 ],
 "metadata": {
  "kernelspec": {
   "display_name": "myenv",
   "language": "python",
   "name": "python3"
  },
  "language_info": {
   "codemirror_mode": {
    "name": "ipython",
    "version": 3
   },
   "file_extension": ".py",
   "mimetype": "text/x-python",
   "name": "python",
   "nbconvert_exporter": "python",
   "pygments_lexer": "ipython3",
   "version": "3.9.19"
  }
 },
 "nbformat": 4,
 "nbformat_minor": 2
}
